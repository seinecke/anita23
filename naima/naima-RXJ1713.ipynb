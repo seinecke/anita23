{
 "cells": [
  {
   "cell_type": "code",
   "execution_count": null,
   "id": "5227d9f5",
   "metadata": {},
   "outputs": [],
   "source": [
    "import astropy.units as u\n",
    "from astropy.constants import c\n",
    "from astropy.io import ascii\n",
    "import numpy as np\n",
    "import matplotlib.pyplot as plt"
   ]
  },
  {
   "cell_type": "code",
   "execution_count": null,
   "id": "e47786f0",
   "metadata": {},
   "outputs": [],
   "source": [
    "data = ascii.read('../data/RXJ1713_HESS_2007.dat')"
   ]
  },
  {
   "cell_type": "markdown",
   "id": "ee67ed3e",
   "metadata": {},
   "source": [
    "# SIMPLE TASKS"
   ]
  },
  {
   "cell_type": "code",
   "execution_count": null,
   "id": "ce2371fb",
   "metadata": {},
   "outputs": [],
   "source": [
    "from naima.models import ExponentialCutoffPowerLaw, PionDecay"
   ]
  },
  {
   "cell_type": "code",
   "execution_count": null,
   "id": "58e97338",
   "metadata": {},
   "outputs": [],
   "source": [
    "def Model(pars, Es):\n",
    "    \"\"\"\n",
    "    Define particle distribution model, radiative model, and return model flux\n",
    "    at energy values\n",
    "    \"\"\"\n",
    "\n",
    "    ECPL = ExponentialCutoffPowerLaw(\n",
    "        pars[0] / u.eV, 10.0 * u.TeV, pars[1], 10 ** pars[2] * u.TeV\n",
    "    )\n",
    "    PD = PionDecay(ECPL, nh = pars[3] / u.cm**3, Epmax = 10 ** pars[4] * u.PeV)\n",
    "    \n",
    "    Wp = PD.compute_Wp()\n",
    "    \n",
    "    Ep = np.logspace(np.log10(PD.Epmin.to(u.GeV).value), \n",
    "                     np.log10(PD.Epmax.to(u.GeV).value),\n",
    "                     100\n",
    "                    ) * u.eV\n",
    "\n",
    "    return PD.flux(Es, distance=1.0*u.kpc), (Ep, ECPL(Ep)), Wp"
   ]
  },
  {
   "cell_type": "code",
   "execution_count": null,
   "id": "f3165b01",
   "metadata": {},
   "outputs": [],
   "source": [
    "## Set initial parameters and labels\n",
    "# (Use log energy fir fitting purposes later)\n",
    "labels = ['amplitude_eV', 'alpha', 'log_cutoff_energy_TeV', 'nH_cm3', 'log_Epmax_PeV']\n",
    "p0 = np.array((2e33, 2.0, np.log10(150), 50, np.log10(1)))"
   ]
  },
  {
   "cell_type": "markdown",
   "id": "80ad91bc",
   "metadata": {},
   "source": [
    "### TASK: Take base model and change iteratively each parameter to investigate their influence on the model"
   ]
  },
  {
   "cell_type": "code",
   "execution_count": null,
   "id": "07dccc32",
   "metadata": {},
   "outputs": [],
   "source": [
    "from naima.models import ### ???"
   ]
  },
  {
   "cell_type": "code",
   "execution_count": null,
   "id": "900bcf84",
   "metadata": {},
   "outputs": [],
   "source": [
    "# Plot data\n",
    "mask = data['ul'] == 0\n",
    "plt.plot((data['energy'][mask]).to(u.eV), data['energy'][mask].to(u.erg)**2 * (data['flux'][mask]).to(1 / u.erg / u.cm**2 / u.s), 'o')\n",
    "\n",
    "# Base model\n",
    "Egs = np.logspace(5, 15, 100) * u.eV\n",
    "p0 = np.array((2e33, 2.0, np.log10(150), 50, np.log10(1)))\n",
    "plt.plot(Egs.to(u.eV), (Egs**2 * Model(p0, Egs)[0]).to(u.erg / u.cm**2 / u.s))\n",
    "\n",
    "# Comparative model\n",
    "p0 = np.array((### MAKE CHANGES HERE####))\n",
    "plt.plot(Egs.to(u.eV), (Egs**2 * Model(p0, Egs)[0]).to(u.erg / u.cm**2 / u.s))\n",
    "\n",
    "plt.xscale('log')\n",
    "plt.yscale('log')\n",
    "\n",
    "plt.xlabel(f'Photon Energy / eV')\n",
    "plt.ylabel(f'$E^2$ d$N$/d$E$ / (eV / (cm2 s))')\n",
    "    \n",
    "plt.ylim(1e-13,1e-10);"
   ]
  },
  {
   "cell_type": "markdown",
   "id": "1a1b1b10",
   "metadata": {},
   "source": [
    "### TASK: What’s the total proton kinetic energy? Is it realistic for such as source?"
   ]
  },
  {
   "cell_type": "code",
   "execution_count": null,
   "id": "eb386120",
   "metadata": {},
   "outputs": [],
   "source": [
    "### WRITE CODE HERE ###"
   ]
  },
  {
   "cell_type": "markdown",
   "id": "b623cc94",
   "metadata": {},
   "source": [
    "### TASK: Implement new functions with alternative models, for example using a different distribution of the parent population and / or a different radiative model. Determine suitable model parameters by trial and error."
   ]
  },
  {
   "cell_type": "code",
   "execution_count": null,
   "id": "aff8f3c0",
   "metadata": {},
   "outputs": [],
   "source": [
    "def Model2(pars, Es):\n",
    "    \"\"\"\n",
    "    Define particle distribution model, radiative model, and return model flux\n",
    "    at energy values\n",
    "    \"\"\"\n",
    "\n",
    "    ## CODE HERE PARENT DISTRIBUTION\n",
    "    \n",
    "    ## CODE HERE RADIATIVE MODEL\n",
    "    \n",
    "    return ##??##.flux(Es, distance=1.0*u.kpc)"
   ]
  },
  {
   "cell_type": "code",
   "execution_count": null,
   "id": "695935bc",
   "metadata": {},
   "outputs": [],
   "source": [
    "# Plot data\n",
    "mask = data['ul'] == 0\n",
    "plt.plot((data['energy'][mask]).to(u.eV), data['energy'][mask].to(u.erg)**2 * (data['flux'][mask]).to(1 / u.erg / u.cm**2 / u.s), 'o')\n",
    "\n",
    "# Base model\n",
    "Egs = np.logspace(5, 15, 100) * u.eV\n",
    "labels = [### ?? ###]\n",
    "p0 = np.array((### ?? ###)\n",
    "plt.plot(Egs.to(u.eV), (Egs**2 * Model2(p0, Egs)[0]).to(u.erg / u.cm**2 / u.s))\n",
    "\n",
    "plt.xlabel(f'Photon Energy / eV')\n",
    "plt.ylabel(f'$E^2$ d$N$/d$E$ / (eV / (cm2 s))')\n",
    "\n",
    "plt.xscale('log')\n",
    "plt.yscale('log')\n",
    "\n",
    "plt.ylim(1e-13,1e-10);"
   ]
  },
  {
   "cell_type": "code",
   "execution_count": null,
   "id": "9651eba8",
   "metadata": {},
   "outputs": [],
   "source": []
  },
  {
   "cell_type": "code",
   "execution_count": null,
   "id": "e91090c0",
   "metadata": {},
   "outputs": [],
   "source": []
  },
  {
   "cell_type": "markdown",
   "id": "ccdcaa3c",
   "metadata": {},
   "source": [
    "# Advanced Tasks"
   ]
  },
  {
   "cell_type": "markdown",
   "id": "6f1bb482",
   "metadata": {},
   "source": [
    "### TASK: Take one of the above models and perform a MCMC fit.\n",
    "Tips (to reduce comp. time):\n",
    "- Determine rough parameter ranges for the priors by varying parameters by hand\n",
    "- Reduce number of fit parameters (e.g. if the influence of a parameter is marginal, fix the parameter; if two parameters influence spectrum the same, only fit one of them\n",
    "Keep nwalkers, nburn, nrun small (e.g. 10, 50, 10)"
   ]
  },
  {
   "cell_type": "code",
   "execution_count": null,
   "id": "d380662e",
   "metadata": {},
   "outputs": [],
   "source": [
    "from naima import uniform_prior\n",
    "from naima import run_sampler"
   ]
  },
  {
   "cell_type": "code",
   "execution_count": null,
   "id": "499096f0",
   "metadata": {},
   "outputs": [],
   "source": [
    "labels = [### ?? ###]\n",
    "p0 = np.array(### ?? ###)"
   ]
  },
  {
   "cell_type": "code",
   "execution_count": null,
   "id": "84022da8",
   "metadata": {},
   "outputs": [],
   "source": [
    "def lnprior(pars):\n",
    "    logprob = uniform_prior(pars[0], #?#, #?#) \\\n",
    "            + uniform_prior(pars[1], #?#, #?#) \\\n",
    "            ## ?? ##\n",
    "    return logprob"
   ]
  },
  {
   "cell_type": "code",
   "execution_count": null,
   "id": "0f78e8c2",
   "metadata": {},
   "outputs": [],
   "source": [
    "## Run sampler\n",
    "sampler, pos = run_sampler(\n",
    "        data_table=data,\n",
    "        p0=p0,\n",
    "        labels=labels,\n",
    "        model=Model,\n",
    "        prior=lnprior,\n",
    "        nwalkers=10,\n",
    "        nburn=50,\n",
    "        nrun=10,\n",
    "        threads=4,\n",
    "        prefit=True,\n",
    "        interactive=False,\n",
    "    )"
   ]
  },
  {
   "cell_type": "code",
   "execution_count": null,
   "id": "ce527bf7",
   "metadata": {},
   "outputs": [],
   "source": [
    "from naima import plot_corner, plot_data, plot_chain, plot_fit"
   ]
  },
  {
   "cell_type": "code",
   "execution_count": null,
   "id": "210ba074",
   "metadata": {},
   "outputs": [],
   "source": [
    "plot_corner(sampler);"
   ]
  },
  {
   "cell_type": "code",
   "execution_count": null,
   "id": "61e46d75",
   "metadata": {},
   "outputs": [],
   "source": [
    "plot_fit(sampler);"
   ]
  },
  {
   "cell_type": "code",
   "execution_count": null,
   "id": "18b4503c",
   "metadata": {},
   "outputs": [],
   "source": [
    "plot_chain(sampler)"
   ]
  },
  {
   "cell_type": "code",
   "execution_count": null,
   "id": "90732d8f",
   "metadata": {},
   "outputs": [],
   "source": []
  }
 ],
 "metadata": {
  "kernelspec": {
   "display_name": "Python 3",
   "language": "python",
   "name": "python3"
  },
  "language_info": {
   "codemirror_mode": {
    "name": "ipython",
    "version": 3
   },
   "file_extension": ".py",
   "mimetype": "text/x-python",
   "name": "python",
   "nbconvert_exporter": "python",
   "pygments_lexer": "ipython3",
   "version": "3.7.10"
  }
 },
 "nbformat": 4,
 "nbformat_minor": 5
}
