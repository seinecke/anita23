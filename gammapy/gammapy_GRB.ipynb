{
  "cells": [
    {
      "cell_type": "code",
      "source": [
        "# Don't forget to restart the runtime afterwards!\n",
        "!pip install gammapy"
      ],
      "metadata": {
        "colab": {
          "base_uri": "https://localhost:8080/",
          "height": 1000
        },
        "id": "JKA7q2J27293",
        "outputId": "cfb7c3ac-06d4-4aba-c04e-16d24bdc812b"
      },
      "execution_count": null,
      "outputs": [
        {
          "output_type": "stream",
          "name": "stdout",
          "text": [
            "Looking in indexes: https://pypi.org/simple, https://us-python.pkg.dev/colab-wheels/public/simple/\n",
            "Collecting gammapy\n",
            "  Downloading gammapy-1.0.tar.gz (3.5 MB)\n",
            "\u001b[2K     \u001b[90m━━━━━━━━━━━━━━━━━━━━━━━━━━━━━━━━━━━━━━━━\u001b[0m \u001b[32m3.5/3.5 MB\u001b[0m \u001b[31m23.6 MB/s\u001b[0m eta \u001b[36m0:00:00\u001b[0m\n",
            "\u001b[?25h  Installing build dependencies ... \u001b[?25l\u001b[?25hdone\n",
            "  Getting requirements to build wheel ... \u001b[?25l\u001b[?25hdone\n",
            "  Preparing metadata (pyproject.toml) ... \u001b[?25l\u001b[?25hdone\n",
            "Collecting regions>=0.5.0\n",
            "  Downloading regions-0.7-cp38-cp38-manylinux_2_5_x86_64.manylinux1_x86_64.manylinux_2_17_x86_64.manylinux2014_x86_64.whl (712 kB)\n",
            "\u001b[2K     \u001b[90m━━━━━━━━━━━━━━━━━━━━━━━━━━━━━━━━━━━━━━\u001b[0m \u001b[32m712.4/712.4 KB\u001b[0m \u001b[31m42.5 MB/s\u001b[0m eta \u001b[36m0:00:00\u001b[0m\n",
            "\u001b[?25hRequirement already satisfied: numpy>=1.20 in /usr/local/lib/python3.8/dist-packages (from gammapy) (1.21.6)\n",
            "Requirement already satisfied: pydantic>=1.4 in /usr/local/lib/python3.8/dist-packages (from gammapy) (1.10.4)\n",
            "Collecting astropy>=5.0\n",
            "  Downloading astropy-5.2.1-cp38-cp38-manylinux_2_12_x86_64.manylinux2010_x86_64.whl (11.4 MB)\n",
            "\u001b[2K     \u001b[90m━━━━━━━━━━━━━━━━━━━━━━━━━━━━━━━━━━━━━━━━\u001b[0m \u001b[32m11.4/11.4 MB\u001b[0m \u001b[31m35.1 MB/s\u001b[0m eta \u001b[36m0:00:00\u001b[0m\n",
            "\u001b[?25hCollecting matplotlib>=3.4\n",
            "  Downloading matplotlib-3.6.3-cp38-cp38-manylinux_2_12_x86_64.manylinux2010_x86_64.whl (9.4 MB)\n",
            "\u001b[2K     \u001b[90m━━━━━━━━━━━━━━━━━━━━━━━━━━━━━━━━━━━━━━━━\u001b[0m \u001b[32m9.4/9.4 MB\u001b[0m \u001b[31m77.8 MB/s\u001b[0m eta \u001b[36m0:00:00\u001b[0m\n",
            "\u001b[?25hRequirement already satisfied: click>=7.0 in /usr/local/lib/python3.8/dist-packages (from gammapy) (7.1.2)\n",
            "Requirement already satisfied: scipy>=1.4 in /usr/local/lib/python3.8/dist-packages (from gammapy) (1.7.3)\n",
            "Collecting iminuit>=2.8.0\n",
            "  Downloading iminuit-2.18.0-cp38-cp38-manylinux_2_12_x86_64.manylinux2010_x86_64.whl (348 kB)\n",
            "\u001b[2K     \u001b[90m━━━━━━━━━━━━━━━━━━━━━━━━━━━━━━━━━━━━━━\u001b[0m \u001b[32m348.9/348.9 KB\u001b[0m \u001b[31m30.4 MB/s\u001b[0m eta \u001b[36m0:00:00\u001b[0m\n",
            "\u001b[?25hRequirement already satisfied: pyyaml>=5.1 in /usr/local/lib/python3.8/dist-packages (from gammapy) (6.0)\n",
            "Requirement already satisfied: packaging>=19.0 in /usr/local/lib/python3.8/dist-packages (from astropy>=5.0->gammapy) (23.0)\n",
            "Requirement already satisfied: pyerfa>=2.0 in /usr/local/lib/python3.8/dist-packages (from astropy>=5.0->gammapy) (2.0.0.1)\n",
            "Requirement already satisfied: pyparsing>=2.2.1 in /usr/local/lib/python3.8/dist-packages (from matplotlib>=3.4->gammapy) (3.0.9)\n",
            "Requirement already satisfied: python-dateutil>=2.7 in /usr/local/lib/python3.8/dist-packages (from matplotlib>=3.4->gammapy) (2.8.2)\n",
            "Requirement already satisfied: kiwisolver>=1.0.1 in /usr/local/lib/python3.8/dist-packages (from matplotlib>=3.4->gammapy) (1.4.4)\n",
            "Collecting contourpy>=1.0.1\n",
            "  Downloading contourpy-1.0.7-cp38-cp38-manylinux_2_17_x86_64.manylinux2014_x86_64.whl (300 kB)\n",
            "\u001b[2K     \u001b[90m━━━━━━━━━━━━━━━━━━━━━━━━━━━━━━━━━━━━━━\u001b[0m \u001b[32m300.0/300.0 KB\u001b[0m \u001b[31m30.3 MB/s\u001b[0m eta \u001b[36m0:00:00\u001b[0m\n",
            "\u001b[?25hRequirement already satisfied: cycler>=0.10 in /usr/local/lib/python3.8/dist-packages (from matplotlib>=3.4->gammapy) (0.11.0)\n",
            "Collecting fonttools>=4.22.0\n",
            "  Downloading fonttools-4.38.0-py3-none-any.whl (965 kB)\n",
            "\u001b[2K     \u001b[90m━━━━━━━━━━━━━━━━━━━━━━━━━━━━━━━━━━━━━━\u001b[0m \u001b[32m965.4/965.4 KB\u001b[0m \u001b[31m50.7 MB/s\u001b[0m eta \u001b[36m0:00:00\u001b[0m\n",
            "\u001b[?25hRequirement already satisfied: pillow>=6.2.0 in /usr/local/lib/python3.8/dist-packages (from matplotlib>=3.4->gammapy) (7.1.2)\n",
            "Requirement already satisfied: typing-extensions>=4.2.0 in /usr/local/lib/python3.8/dist-packages (from pydantic>=1.4->gammapy) (4.4.0)\n",
            "Requirement already satisfied: six>=1.5 in /usr/local/lib/python3.8/dist-packages (from python-dateutil>=2.7->matplotlib>=3.4->gammapy) (1.15.0)\n",
            "Building wheels for collected packages: gammapy\n",
            "  Building wheel for gammapy (pyproject.toml) ... \u001b[?25l\u001b[?25hdone\n",
            "  Created wheel for gammapy: filename=gammapy-1.0-cp38-cp38-linux_x86_64.whl size=879989 sha256=e8ba6f34519546e791b1ec3681e2c74df027c64a7c613963b96cf6ede621497d\n",
            "  Stored in directory: /root/.cache/pip/wheels/ee/0f/90/8d32cca62d19566f81b726347ea98492a2984375047ad240dc\n",
            "Successfully built gammapy\n",
            "Installing collected packages: iminuit, fonttools, contourpy, matplotlib, astropy, regions, gammapy\n",
            "  Attempting uninstall: matplotlib\n",
            "    Found existing installation: matplotlib 3.2.2\n",
            "    Uninstalling matplotlib-3.2.2:\n",
            "      Successfully uninstalled matplotlib-3.2.2\n",
            "  Attempting uninstall: astropy\n",
            "    Found existing installation: astropy 4.3.1\n",
            "    Uninstalling astropy-4.3.1:\n",
            "      Successfully uninstalled astropy-4.3.1\n",
            "Successfully installed astropy-5.2.1 contourpy-1.0.7 fonttools-4.38.0 gammapy-1.0 iminuit-2.18.0 matplotlib-3.6.3 regions-0.7\n"
          ]
        },
        {
          "output_type": "display_data",
          "data": {
            "application/vnd.colab-display-data+json": {
              "pip_warning": {
                "packages": [
                  "astropy",
                  "matplotlib",
                  "mpl_toolkits"
                ]
              }
            }
          },
          "metadata": {}
        }
      ]
    },
    {
      "cell_type": "code",
      "execution_count": null,
      "metadata": {
        "id": "ztCXiHa9_U3Q"
      },
      "outputs": [],
      "source": [
        "# CTA IRFs are officially downloaded from the following link\n",
        "# The zip contains many IRFs for many different configurations,\n",
        "# check it out if you are interested to see different ones\n",
        "\n",
        "# https://zenodo.org/record/5499840/files/cta-prod5-zenodo-fitsonly-v0.1.zip?download=1\n",
        "\n",
        "# You can find the ones I'll be using on my github\n",
        "# There are 3 files for the same configurations but different observation times\n",
        "# Upload them to colab:\n",
        "# On the left click the folder, then the file with the arrow\n",
        "# The following command should show them:"
      ]
    },
    {
      "cell_type": "code",
      "execution_count": null,
      "metadata": {
        "colab": {
          "base_uri": "https://localhost:8080/"
        },
        "id": "l_saUvLmdkX1",
        "outputId": "3e268922-3afd-4e61-eb42-53d75a7cc8fe"
      },
      "outputs": [
        {
          "output_type": "stream",
          "name": "stdout",
          "text": [
            "ebl_dominguez11.fits                                         \u001b[0m\u001b[01;34msample_data\u001b[0m/\n",
            "Prod5-South-20deg-AverageAz-14MSTs37SSTs.1800s-v0.1.fits.gz\n"
          ]
        }
      ],
      "source": [
        "ls"
      ]
    },
    {
      "cell_type": "code",
      "execution_count": null,
      "metadata": {
        "id": "LtehNSdmG6jh"
      },
      "outputs": [],
      "source": [
        "import numpy as np\n",
        "import astropy.units as u\n",
        "from astropy.coordinates import SkyCoord, Angle\n",
        "from regions import CircleSkyRegion\n",
        "import matplotlib.pyplot as plt"
      ]
    },
    {
      "cell_type": "code",
      "execution_count": null,
      "metadata": {
        "id": "rBJUEhHJEy2k"
      },
      "outputs": [],
      "source": [
        "from gammapy.modeling.models import PowerLawSpectralModel, SkyModel, EBLAbsorptionNormSpectralModel\n",
        "from gammapy.maps import MapAxis, RegionGeom\n",
        "from gammapy.data import Observation, observatory_locations\n",
        "from gammapy.datasets import SpectrumDatasetOnOff, SpectrumDataset, Datasets, FluxPointsDataset\n",
        "from gammapy.makers import SpectrumDatasetMaker\n",
        "from gammapy.estimators import FluxPointsEstimator\n",
        "from gammapy.irf import load_cta_irfs"
      ]
    },
    {
      "cell_type": "markdown",
      "source": [
        "### Task: GRB Simulation\n",
        "\n",
        "#### Simple\n",
        "- (If you want, pick your own time-dependent GRB spectrum)\n",
        "- Pick the width of your time bins and choose the appropriate IRF for your choice\n",
        "- Adapt parameters of your spectrum and time dependence\n",
        "- Plot excess counts (or excess count rate) vs time (light curve with counts)\n",
        "- Plot the spectrum for each time bin\n",
        "- What's the smallest observation time binning you can choose to get 5 bins in the light curve with > 3 sigma significance (sqrt_TS)?\n"
      ],
      "metadata": {
        "id": "8yQG8a1jKV_c"
      }
    },
    {
      "cell_type": "code",
      "source": [
        "# Select your time bins\n",
        "# (To reduce computation time, you might not want to choose too many bins)\n",
        "Ts = np.linspace(0.001, #?#, 5) * ## Time unit##"
      ],
      "metadata": {
        "id": "kmosr1NONODy"
      },
      "execution_count": null,
      "outputs": []
    },
    {
      "cell_type": "code",
      "execution_count": null,
      "metadata": {
        "id": "wAWyUZBuErcY"
      },
      "outputs": [],
      "source": [
        "# Select an appropriate IRF that fits your intended time bin width\n",
        "# Note that CTA is a pointed telescope and observation time is limited\n",
        "irfs = load_cta_irfs('Prod5-South-20deg-AverageAz-14MSTs37SSTs.##???##s-v0.1.fits.gz')"
      ]
    },
    {
      "cell_type": "code",
      "execution_count": null,
      "metadata": {
        "id": "BtXHqYpo-naQ"
      },
      "outputs": [],
      "source": [
        "name = 'Transient Simulation'\n",
        "\n",
        "# Choose arbitrary pointing for this simulation\n",
        "pointing = SkyCoord(0, 0, unit='deg', frame='galactic')\n",
        "\n",
        "# Related to angular resolution and extension\n",
        "# (Extragalactic sources are point sources)\n",
        "on_region_radius = Angle('0.11 deg')\n",
        "\n",
        "models = {'T':[], 'model':[]}\n",
        "\n",
        "# Assume the below is the spectrum at T=0\n",
        "# The flux of the GRB will decrease over time after the explosion\n",
        "# Assume some temporal relationship, such as a powerlaw ~ T^-1.2 for the decay\n",
        "\n",
        "for i, T in enumerate(Ts):\n",
        "    models['T'].append(T)\n",
        "    ampl = 1e-9 * T.to(u.h).value ** ##?##\n",
        "\n",
        "    # Define GRB source spectrum\n",
        "    # Note: Something seems wrong / inconsistent with the spectrum normalisation\n",
        "    # - much higher than in previous versions - in the new (finally v1!!) version\n",
        "    # I adapted the amplitude accordingly\n",
        "    spectral_model = PowerLawSpectralModel(\n",
        "        index=2.4,\n",
        "        amplitude=f\"{ampl} cm-2 s-1 GeV-1\",\n",
        "        reference=10 * u.GeV,\n",
        "    )\n",
        "\n",
        "    # Define EBL absorption according to redshift\n",
        "    # Note: CTA might be able to see up to redshift 4\n",
        "    # Current instruments are able to see redshift ~ 1\n",
        "    spectral_model *= EBLAbsorptionNormSpectralModel.read(\n",
        "        'ebl_dominguez11.fits', \n",
        "        redshift=0.4\n",
        "    )\n",
        "\n",
        "    models['model'].append(SkyModel(spectral_model=spectral_model, name=name))"
      ]
    },
    {
      "cell_type": "markdown",
      "metadata": {
        "id": "wwCV9sfxGX9c"
      },
      "source": []
    },
    {
      "cell_type": "code",
      "execution_count": null,
      "metadata": {
        "id": "28-tPUGBHH2V"
      },
      "outputs": [],
      "source": [
        "# Define simulation parameters\n",
        "\n",
        "# Choose observation time you want to simulate\n",
        "# The IRF you loaded before should be in the same range (seconds / minutes / hours)\n",
        "# If not, reload different IRF\n",
        "livetime = ##?## * ## time unit ##\n",
        "\n",
        "# This is how far away from our source we point. \n",
        "# Performance is dependent on this.\n",
        "# The larger, the more certain the background estimate\n",
        "# Should not be larger than camera FoV\n",
        "offset = 1 * u.deg\n",
        "\n",
        "# Reconstructed energy axis\n",
        "# Standard in CTA is 5 bins per decade (related to energy resolution)\n",
        "energy_axis = MapAxis.from_edges(\n",
        "    np.logspace(-1, 3, 21), unit=\"TeV\", name=\"energy\", interp=\"log\"\n",
        ")\n",
        "\n",
        "# True energy axis\n",
        "# Should always cover larger range as reconstructed axis on both sides\n",
        "# Should also have finer binning, \n",
        "# for example to properly capture steep changes in effective area\n",
        "energy_axis_true = MapAxis.from_edges(\n",
        "    np.logspace(-1.5, 4.0, 101), unit=\"TeV\", name=\"energy_true\", interp=\"log\"\n",
        ")\n",
        "\n",
        "center = pointing.directional_offset_by(\n",
        "    position_angle=0*u.deg, separation=offset\n",
        ")\n",
        "on_region = CircleSkyRegion(center=center, radius=on_region_radius)"
      ]
    },
    {
      "cell_type": "markdown",
      "metadata": {
        "id": "3sFvuEq9ClXP"
      },
      "source": [
        "# New Section"
      ]
    },
    {
      "cell_type": "code",
      "execution_count": null,
      "metadata": {
        "id": "nheLzMmJIFWl"
      },
      "outputs": [],
      "source": [
        "# Make the SpectrumDataset\n",
        "geom = RegionGeom.create(region=on_region, axes=[energy_axis])\n",
        "\n",
        "dataset_empty = SpectrumDataset.create(\n",
        "    geom=geom, energy_axis_true=energy_axis_true, #name=\"obs-0\"\n",
        ")\n",
        "maker = SpectrumDatasetMaker(selection=[\"exposure\", \"edisp\", \"background\"])"
      ]
    },
    {
      "cell_type": "code",
      "execution_count": null,
      "metadata": {
        "id": "Eg5hT8Q2IO3c"
      },
      "outputs": [],
      "source": [
        "fpe = FluxPointsEstimator(energy_edges=energy_axis.edges, \n",
        "                          selection_optional='all')"
      ]
    },
    {
      "cell_type": "code",
      "execution_count": null,
      "metadata": {
        "id": "Jltsw2jsISR9"
      },
      "outputs": [],
      "source": [
        "datasets = Datasets()\n",
        "\n",
        "location = observatory_locations[\"cta_south\"]\n",
        "obs = Observation.create(\n",
        "        pointing=pointing,\n",
        "        livetime=livetime,\n",
        "        irfs=irfs,\n",
        "        location=location,\n",
        ")\n",
        "    \n",
        "for i in range(len(Ts)):\n",
        "  dataset = maker.run(dataset_empty, obs)\n",
        "\n",
        "  # Set the model on the dataset, and fake\n",
        "  dataset.models = models['model'][i]\n",
        "  dataset.fake(random_state=42)\n",
        "  # print(dataset)\n",
        "      \n",
        "  dataset_on_off = SpectrumDatasetOnOff.from_spectrum_dataset(\n",
        "  dataset=dataset, acceptance=1, acceptance_off=5, name=f'T={models[\"T\"][i]}'\n",
        "  )\n",
        "  dataset_on_off.fake(random_state=42, npred_background=dataset.npred_background())\n",
        "  # print(dataset_on_off)\n",
        "\n",
        "  datasets.append(dataset_on_off)"
      ]
    },
    {
      "cell_type": "code",
      "execution_count": null,
      "metadata": {
        "colab": {
          "base_uri": "https://localhost:8080/",
          "height": 275
        },
        "id": "z2cwaO2xI5s4",
        "outputId": "b83b2dd2-a598-4281-d809-2fa1d558db0b"
      },
      "outputs": [
        {
          "output_type": "execute_result",
          "data": {
            "text/plain": [
              "<Table length=5>\n",
              "   name    counts     excess    ... acceptance_off        alpha       \n",
              "                                ...                                   \n",
              "  str10    int64     float64    ...    float64           float64      \n",
              "---------- ------ ------------- ... -------------- -------------------\n",
              "  T=0.01 h  43010 42979.6015625 ...          100.0 0.20000000298023224\n",
              "T=0.2575 h    891         859.0 ...          100.0                 0.2\n",
              " T=0.505 h    414         384.2 ...          100.0                 0.2\n",
              "T=0.7525 h    261         229.0 ...          100.0                 0.2\n",
              "   T=1.0 h    195         163.0 ...          100.0                 0.2"
            ],
            "text/html": [
              "<div><i>Table length=5</i>\n",
              "<table id=\"table140086685615536\" class=\"table-striped table-bordered table-condensed\">\n",
              "<thead><tr><th>name</th><th>counts</th><th>excess</th><th>sqrt_ts</th><th>background</th><th>npred</th><th>npred_background</th><th>npred_signal</th><th>exposure_min</th><th>exposure_max</th><th>livetime</th><th>ontime</th><th>counts_rate</th><th>background_rate</th><th>excess_rate</th><th>n_bins</th><th>n_fit_bins</th><th>stat_type</th><th>stat_sum</th><th>counts_off</th><th>acceptance</th><th>acceptance_off</th><th>alpha</th></tr></thead>\n",
              "<thead><tr><th></th><th></th><th></th><th></th><th></th><th></th><th></th><th></th><th>m2 s</th><th>m2 s</th><th>s</th><th>s</th><th>1 / s</th><th>1 / s</th><th>1 / s</th><th></th><th></th><th></th><th></th><th></th><th></th><th></th><th></th></tr></thead>\n",
              "<thead><tr><th>str10</th><th>int64</th><th>float64</th><th>float64</th><th>float64</th><th>float64</th><th>float64</th><th>float64</th><th>float64</th><th>float64</th><th>float64</th><th>float64</th><th>float64</th><th>float64</th><th>float64</th><th>int64</th><th>int64</th><th>str5</th><th>float64</th><th>int64</th><th>float64</th><th>float64</th><th>float64</th></tr></thead>\n",
              "<tr><td>T=0.01 h</td><td>43010</td><td>42979.6015625</td><td>390.07930505480937</td><td>30.399999618530273</td><td>7193.666755994989</td><td>7193.666755994989</td><td>nan</td><td>3539673.25</td><td>1618041344.0</td><td>359.99999999999875</td><td>359.99999999999875</td><td>119.47222222222264</td><td>0.08444444338480661</td><td>119.38778211805597</td><td>20</td><td>20</td><td>wstat</td><td>152279.96661171305</td><td>152</td><td>20.0</td><td>100.0</td><td>0.20000000298023224</td></tr>\n",
              "<tr><td>T=0.2575 h</td><td>891</td><td>859.0</td><td>48.52434635709084</td><td>32.0</td><td>904.6378356209913</td><td>32.03907792989388</td><td>872.5987576910975</td><td>3539673.19984576</td><td>1618041373.286807</td><td>359.99999999999875</td><td>359.99999999999875</td><td>2.4750000000000085</td><td>0.0888888888888892</td><td>2.3861111111111195</td><td>20</td><td>20</td><td>wstat</td><td>8.754150824420442</td><td>160</td><td>20.0</td><td>100.0</td><td>0.2</td></tr>\n",
              "<tr><td>T=0.505 h</td><td>414</td><td>384.2</td><td>29.78638663314575</td><td>29.8</td><td>418.6458660002498</td><td>29.78197569766318</td><td>388.8638903025866</td><td>3539673.19984576</td><td>1618041373.286807</td><td>359.99999999999875</td><td>359.99999999999875</td><td>1.150000000000004</td><td>0.08277777777777806</td><td>1.0672222222222258</td><td>20</td><td>20</td><td>wstat</td><td>10.035214716322072</td><td>149</td><td>20.0</td><td>100.0</td><td>0.2</td></tr>\n",
              "<tr><td>T=0.7525 h</td><td>261</td><td>229.0</td><td>20.844178291499425</td><td>32.0</td><td>272.8516042405212</td><td>31.8946498189756</td><td>240.95695442154567</td><td>3539673.19984576</td><td>1618041373.286807</td><td>359.99999999999875</td><td>359.99999999999875</td><td>0.7250000000000025</td><td>0.0888888888888892</td><td>0.6361111111111133</td><td>20</td><td>20</td><td>wstat</td><td>11.436934119861434</td><td>160</td><td>20.0</td><td>100.0</td><td>0.2</td></tr>\n",
              "<tr><td>T=1.0 h</td><td>195</td><td>163.0</td><td>16.384471592338528</td><td>32.0</td><td>203.40032824470245</td><td>32.104309036092474</td><td>171.29601920860998</td><td>3539673.19984576</td><td>1618041373.286807</td><td>359.99999999999875</td><td>359.99999999999875</td><td>0.5416666666666685</td><td>0.0888888888888892</td><td>0.45277777777777933</td><td>20</td><td>20</td><td>wstat</td><td>13.25268885676302</td><td>160</td><td>20.0</td><td>100.0</td><td>0.2</td></tr>\n",
              "</table></div>"
            ]
          },
          "metadata": {},
          "execution_count": 48
        }
      ],
      "source": [
        "datasets.info_table()"
      ]
    },
    {
      "cell_type": "code",
      "source": [
        "plt.plot(Ts, datasets.info_table()['excess'], 'o')\n",
        "\n",
        "plt.yscale('log')\n",
        "\n",
        "plt.xlabel(f'T / {Ts.unit}')\n",
        "plt.ylabel('Excess Counts');"
      ],
      "metadata": {
        "colab": {
          "base_uri": "https://localhost:8080/",
          "height": 296
        },
        "id": "_Ipw3rBbH2Xv",
        "outputId": "50121461-d540-433b-b6fc-8952c33d0d83"
      },
      "execution_count": null,
      "outputs": [
        {
          "output_type": "execute_result",
          "data": {
            "text/plain": [
              "Text(0, 0.5, 'Excess Counts')"
            ]
          },
          "metadata": {},
          "execution_count": 50
        },
        {
          "output_type": "display_data",
          "data": {
            "text/plain": [
              "<Figure size 432x288 with 1 Axes>"
            ],
            "image/png": "[encoded data removed]"
          },
          "metadata": {
            "needs_background": "light"
          }
        }
      ]
    },
    {
      "cell_type": "code",
      "execution_count": null,
      "metadata": {
        "id": "l2yIkPoKI_cC",
        "colab": {
          "base_uri": "https://localhost:8080/"
        },
        "outputId": "f78c68b3-6f04-4b39-a177-2622884fb929"
      },
      "outputs": [
        {
          "output_type": "stream",
          "name": "stdout",
          "text": [
            "T=0.01 h\n",
            "T=0.2575 h\n",
            "T=0.505 h\n",
            "T=0.7525 h\n",
            "T=1.0 h\n"
          ]
        }
      ],
      "source": [
        "flux_points_datasets = Datasets()\n",
        "\n",
        "for i, d in enumerate(datasets):\n",
        "    flux_points = fpe.run(datasets=[d])\n",
        "    flux_points_datasets.append(\n",
        "        FluxPointsDataset(data=flux_points, models=models['model'][i], name=d.name))"
      ]
    },
    {
      "cell_type": "code",
      "execution_count": null,
      "metadata": {
        "colab": {
          "base_uri": "https://localhost:8080/",
          "height": 1000
        },
        "id": "9I4fa-gaJbvL",
        "outputId": "416a59ec-796d-4f4e-e9b7-4f8c81f4664c"
      },
      "outputs": [
        {
          "output_type": "display_data",
          "data": {
            "text/plain": [
              "<Figure size 432x288 with 1 Axes>"
            ],
            "image/png": "[encoded data removed]"
          },
          "metadata": {
            "needs_background": "light"
          }
        },
        {
          "output_type": "display_data",
          "data": {
            "text/plain": [
              "<Figure size 432x288 with 1 Axes>"
            ],
            "image/png": "[encoded data removed]"
          },
          "metadata": {
            "needs_background": "light"
          }
        },
        {
          "output_type": "display_data",
          "data": {
            "text/plain": [
              "<Figure size 432x288 with 1 Axes>"
            ],
            "image/png": "[encoded data removed]"
          },
          "metadata": {
            "needs_background": "light"
          }
        },
        {
          "output_type": "display_data",
          "data": {
            "text/plain": [
              "<Figure size 432x288 with 1 Axes>"
            ],
            "image/png": "[encoded data removed]"
          },
          "metadata": {
            "needs_background": "light"
          }
        },
        {
          "output_type": "display_data",
          "data": {
            "text/plain": [
              "<Figure size 432x288 with 1 Axes>"
            ],
            "image/png": "[encoded data removed]"
          },
          "metadata": {
            "needs_background": "light"
          }
        }
      ],
      "source": [
        "ax = plt.subplot()\n",
        "ax.yaxis.set_units(u.Unit(\"TeV cm-2 s-1\"))\n",
        "\n",
        "kwargs = {\"ax\": ax, \"sed_type\": \"e2dnde\"}\n",
        "\n",
        "for i, d in enumerate(flux_points_datasets):\n",
        "    ax = plt.subplot()\n",
        "    ax.yaxis.set_units(u.Unit(\"TeV cm-2 s-1\"))\n",
        "    kwargs = {\"ax\": ax, \"sed_type\": \"e2dnde\"}\n",
        "        \n",
        "    d.plot_spectrum(kwargs_fp = {'label': d.name, 'color':'darkblue'}, \n",
        "                    kwargs_model = {'label':'Model', 'color':'gray', 'alpha': 0.7})\n",
        "\n",
        "    ax.legend(loc='upper right')\n",
        "    ax.set_ylim(1e-15, 1e-8)\n",
        "    plt.show()"
      ]
    },
    {
      "cell_type": "markdown",
      "source": [
        "### Task: GRB Simulation\n",
        "\n",
        "#### Advanced\n",
        "- Plot lightcurve with flux of some energy bin\n",
        "- In the same plot, plot lightcurve with flux of different energy bin\n",
        "- In a new plot, plot lightcurve integrated flux\n",
        "- Compare spectra for different EBL models (interesting for the super bright GRB)"
      ],
      "metadata": {
        "id": "Q77xctZ8QJHp"
      }
    },
    {
      "cell_type": "code",
      "source": [],
      "metadata": {
        "id": "JgmpnZw1QQDx"
      },
      "execution_count": null,
      "outputs": []
    }
  ],
  "metadata": {
    "colab": {
      "provenance": []
    },
    "kernelspec": {
      "display_name": "Python 3",
      "name": "python3"
    },
    "language_info": {
      "name": "python"
    }
  },
  "nbformat": 4,
  "nbformat_minor": 0
}