{
  "nbformat": 4,
  "nbformat_minor": 0,
  "metadata": {
    "colab": {
      "provenance": []
    },
    "kernelspec": {
      "name": "python3",
      "display_name": "Python 3"
    },
    "language_info": {
      "name": "python"
    }
  },
  "cells": [
    {
      "cell_type": "code",
      "execution_count": 1,
      "metadata": {
        "colab": {
          "base_uri": "https://localhost:8080/"
        },
        "id": "c2v4SD67911G",
        "outputId": "7abded1a-1146-4694-db33-766a38667c22"
      },
      "outputs": [
        {
          "output_type": "stream",
          "name": "stdout",
          "text": [
            "Looking in indexes: https://pypi.org/simple, https://us-python.pkg.dev/colab-wheels/public/simple/\n",
            "Requirement already satisfied: gammapy in /usr/local/lib/python3.8/dist-packages (1.0)\n",
            "Requirement already satisfied: regions>=0.5.0 in /usr/local/lib/python3.8/dist-packages (from gammapy) (0.7)\n",
            "Requirement already satisfied: astropy>=5.0 in /usr/local/lib/python3.8/dist-packages (from gammapy) (5.2.1)\n",
            "Requirement already satisfied: pydantic>=1.4 in /usr/local/lib/python3.8/dist-packages (from gammapy) (1.10.4)\n",
            "Requirement already satisfied: matplotlib>=3.4 in /usr/local/lib/python3.8/dist-packages (from gammapy) (3.6.3)\n",
            "Requirement already satisfied: iminuit>=2.8.0 in /usr/local/lib/python3.8/dist-packages (from gammapy) (2.18.0)\n",
            "Requirement already satisfied: click>=7.0 in /usr/local/lib/python3.8/dist-packages (from gammapy) (7.1.2)\n",
            "Requirement already satisfied: scipy>=1.4 in /usr/local/lib/python3.8/dist-packages (from gammapy) (1.7.3)\n",
            "Requirement already satisfied: pyyaml>=5.1 in /usr/local/lib/python3.8/dist-packages (from gammapy) (6.0)\n",
            "Requirement already satisfied: numpy>=1.20 in /usr/local/lib/python3.8/dist-packages (from gammapy) (1.21.6)\n",
            "Requirement already satisfied: pyerfa>=2.0 in /usr/local/lib/python3.8/dist-packages (from astropy>=5.0->gammapy) (2.0.0.1)\n",
            "Requirement already satisfied: packaging>=19.0 in /usr/local/lib/python3.8/dist-packages (from astropy>=5.0->gammapy) (23.0)\n",
            "Requirement already satisfied: kiwisolver>=1.0.1 in /usr/local/lib/python3.8/dist-packages (from matplotlib>=3.4->gammapy) (1.4.4)\n",
            "Requirement already satisfied: python-dateutil>=2.7 in /usr/local/lib/python3.8/dist-packages (from matplotlib>=3.4->gammapy) (2.8.2)\n",
            "Requirement already satisfied: cycler>=0.10 in /usr/local/lib/python3.8/dist-packages (from matplotlib>=3.4->gammapy) (0.11.0)\n",
            "Requirement already satisfied: fonttools>=4.22.0 in /usr/local/lib/python3.8/dist-packages (from matplotlib>=3.4->gammapy) (4.38.0)\n",
            "Requirement already satisfied: contourpy>=1.0.1 in /usr/local/lib/python3.8/dist-packages (from matplotlib>=3.4->gammapy) (1.0.7)\n",
            "Requirement already satisfied: pillow>=6.2.0 in /usr/local/lib/python3.8/dist-packages (from matplotlib>=3.4->gammapy) (7.1.2)\n",
            "Requirement already satisfied: pyparsing>=2.2.1 in /usr/local/lib/python3.8/dist-packages (from matplotlib>=3.4->gammapy) (3.0.9)\n",
            "Requirement already satisfied: typing-extensions>=4.2.0 in /usr/local/lib/python3.8/dist-packages (from pydantic>=1.4->gammapy) (4.4.0)\n",
            "Requirement already satisfied: six>=1.5 in /usr/local/lib/python3.8/dist-packages (from python-dateutil>=2.7->matplotlib>=3.4->gammapy) (1.15.0)\n"
          ]
        }
      ],
      "source": [
        "# Install gammapy in Google colab\n",
        "# Afterwards press 'Restart Runtime'\n",
        "!pip install gammapy"
      ]
    },
    {
      "cell_type": "code",
      "source": [
        "# We will use gammapy v1.0\n",
        "# Check that you have correct version\n",
        "import gammapy\n",
        "gammapy.__version__"
      ],
      "metadata": {
        "colab": {
          "base_uri": "https://localhost:8080/",
          "height": 37
        },
        "id": "c2zKiaL-97Oz",
        "outputId": "dbc1d577-6827-445f-85b7-8481baf2e379"
      },
      "execution_count": 2,
      "outputs": [
        {
          "output_type": "execute_result",
          "data": {
            "text/plain": [
              "'1.0'"
            ],
            "application/vnd.google.colaboratory.intrinsic+json": {
              "type": "string"
            }
          },
          "metadata": {},
          "execution_count": 2
        }
      ]
    },
    {
      "cell_type": "code",
      "source": [
        "# CTA IRFs are officially downloaded from the following link\n",
        "# The zip contains many IRFs for many different configurations,\n",
        "# check it out if you are interested to see different ones\n",
        "\n",
        "# https://zenodo.org/record/5499840/files/cta-prod5-zenodo-fitsonly-v0.1.zip?download=1\n",
        "\n",
        "# You can find the ones I'll be using on my github\n",
        "# There are 3 files for the same configurations but different observation times\n",
        "# Upload them to colab:\n",
        "# On the left click the folder, then the file with the arrow\n",
        "# The following command should show them:"
      ],
      "metadata": {
        "id": "ztCXiHa9_U3Q"
      },
      "execution_count": 3,
      "outputs": []
    },
    {
      "cell_type": "code",
      "source": [
        "ls"
      ],
      "metadata": {
        "colab": {
          "base_uri": "https://localhost:8080/"
        },
        "id": "l_saUvLmdkX1",
        "outputId": "5ffd6232-4d7e-4ff6-de1c-8ef9547d43bf"
      },
      "execution_count": 4,
      "outputs": [
        {
          "output_type": "stream",
          "name": "stdout",
          "text": [
            "ebl_dominguez11.fits\n",
            "ebl_franceschini.fits\n",
            "frd_abs.fits\n",
            "gammapy-Counts0.pdf\n",
            "gammapy-SimulatedSpectrum0.pdf\n",
            "gammapy-SimulatedSpectrum1.pdf\n",
            "matplotlibrc\n",
            "Prod5-South-20deg-AverageAz-14MSTs37SSTs.180000s-v0.1.fits.gz\n",
            "Prod5-South-20deg-AverageAz-14MSTs37SSTs.18000s-v0.1.fits.gz\n",
            "Prod5-South-20deg-AverageAz-14MSTs37SSTs.1800s-v0.1.fits.gz\n",
            "\u001b[0m\u001b[01;34msample_data\u001b[0m/\n"
          ]
        }
      ]
    },
    {
      "cell_type": "code",
      "source": [
        "import numpy as np\n",
        "import astropy.units as u\n",
        "from astropy.coordinates import SkyCoord, Angle\n",
        "from regions import CircleSkyRegion\n",
        "import matplotlib.pyplot as plt"
      ],
      "metadata": {
        "id": "LtehNSdmG6jh"
      },
      "execution_count": 5,
      "outputs": []
    },
    {
      "cell_type": "code",
      "source": [
        "from gammapy.modeling.models import PowerLawSpectralModel, SkyModel, EBLAbsorptionNormSpectralModel\n",
        "from gammapy.maps import MapAxis, RegionGeom\n",
        "from gammapy.data import Observation, observatory_locations\n",
        "from gammapy.datasets import SpectrumDatasetOnOff, SpectrumDataset, Datasets, FluxPointsDataset\n",
        "from gammapy.makers import SpectrumDatasetMaker\n",
        "from gammapy.estimators import FluxPointsEstimator\n",
        "from gammapy.irf import load_cta_irfs"
      ],
      "metadata": {
        "id": "rBJUEhHJEy2k"
      },
      "execution_count": 6,
      "outputs": []
    },
    {
      "cell_type": "code",
      "source": [
        "irfs = {'irf':[], 'name':[]}\n",
        "\n",
        "irfs['name'].append('0.5h')\n",
        "irfs['irf'].append(load_cta_irfs('Prod5-South-20deg-AverageAz-14MSTs37SSTs.1800s-v0.1.fits.gz'))\n",
        "\n",
        "irfs['name'].append('5h')\n",
        "irfs['irf'].append(load_cta_irfs('Prod5-South-20deg-AverageAz-14MSTs37SSTs.18000s-v0.1.fits.gz'))\n",
        "\n",
        "irfs['name'].append('50h')\n",
        "irfs['irf'].append(load_cta_irfs('Prod5-South-20deg-AverageAz-14MSTs37SSTs.180000s-v0.1.fits.gz'))"
      ],
      "metadata": {
        "id": "wAWyUZBuErcY"
      },
      "execution_count": 7,
      "outputs": []
    },
    {
      "cell_type": "code",
      "source": [
        "name = 'CTA Simulation'\n",
        "\n",
        "# Choose arbitrary pointing for this simulation\n",
        "pointing = SkyCoord(0, 0, unit='deg', frame='galactic')\n",
        "\n",
        "# Related to angular resolution and extension\n",
        "# (Extragalactic sources are point sources)\n",
        "on_region_radius = Angle('0.11 deg')\n",
        "\n",
        "# Define gamma-ray source spectrum\n",
        "# Note: Something seems wrong / inconsistent with the spectrum normalisation\n",
        "# - much higher than in previous versions - in the new (finally v1!!) version\n",
        "# I adapted the amplitude accordingly\n",
        "spectral_model = PowerLawSpectralModel(\n",
        "    index=2.4,\n",
        "    amplitude=\"1e-9 cm-2 s-1 GeV-1\",\n",
        "    reference=10 * u.GeV,\n",
        ")\n",
        "\n",
        "# Define gamma-ray source spectrum\n",
        "spectral_model *= EBLAbsorptionNormSpectralModel.read(\n",
        "    'ebl_dominguez11.fits', \n",
        "    redshift=0.4\n",
        ")\n",
        "\n",
        "print(spectral_model)\n",
        "model = SkyModel(spectral_model=spectral_model, name=name)"
      ],
      "metadata": {
        "colab": {
          "base_uri": "https://localhost:8080/"
        },
        "id": "BtXHqYpo-naQ",
        "outputId": "fb41e026-e707-486e-8898-89c18d9d1826"
      },
      "execution_count": 8,
      "outputs": [
        {
          "output_type": "stream",
          "name": "stdout",
          "text": [
            "CompoundSpectralModel\n",
            "    Component 1 : PowerLawSpectralModel\n",
            "\n",
            "  type      name     value         unit      ... max frozen is_norm link\n",
            "-------- --------- ---------- -------------- ... --- ------ ------- ----\n",
            "spectral     index 2.4000e+00                ... nan  False   False     \n",
            "spectral amplitude 1.0000e-09 cm-2 GeV-1 s-1 ... nan  False    True     \n",
            "spectral reference 1.0000e+01            GeV ... nan   True   False     \n",
            "    Component 2 : EBLAbsorptionNormSpectralModel\n",
            "\n",
            "  type      name      value    unit   error   min max frozen is_norm link\n",
            "-------- ---------- ---------- ---- --------- --- --- ------ ------- ----\n",
            "spectral alpha_norm 1.0000e+00      0.000e+00 nan nan   True   False     \n",
            "spectral   redshift 4.0000e-01      0.000e+00 nan nan   True   False     \n",
            "    Operator : mul\n",
            "\n"
          ]
        }
      ]
    },
    {
      "cell_type": "markdown",
      "source": [],
      "metadata": {
        "id": "wwCV9sfxGX9c"
      }
    },
    {
      "cell_type": "code",
      "source": [
        "# Define simulation parameters\n",
        "\n",
        "# Choose observation time you want to simulate\n",
        "# The IRF you loaded before should be in the same range (seconds / minutes / hours)\n",
        "# If not, reload different IRF\n",
        "livetime = 0.5 * u.h\n",
        "\n",
        "# This is how far away from our source we point. \n",
        "# Performance is dependent on this.\n",
        "# The larger, the more certain the background estimate\n",
        "# Should not be larger than camera FoV\n",
        "offset = 1 * u.deg\n",
        "\n",
        "# Reconstructed energy axis\n",
        "# Standard in CTA is 5 bins per decade (related to energy resolution)\n",
        "energy_axis = MapAxis.from_edges(\n",
        "    np.logspace(-1, 3, 21), unit=\"TeV\", name=\"energy\", interp=\"log\"\n",
        ")\n",
        "\n",
        "# True energy axis\n",
        "# Should always cover larger range as reconstructed axis on both sides\n",
        "# Should also have finer binning, \n",
        "# for example to properly capture steep changes in effective area\n",
        "energy_axis_true = MapAxis.from_edges(\n",
        "    np.logspace(-1.5, 4.0, 101), unit=\"TeV\", name=\"energy_true\", interp=\"log\"\n",
        ")\n",
        "\n",
        "center = pointing.directional_offset_by(\n",
        "    position_angle=0*u.deg, separation=offset\n",
        ")\n",
        "on_region = CircleSkyRegion(center=center, radius=on_region_radius)"
      ],
      "metadata": {
        "id": "28-tPUGBHH2V"
      },
      "execution_count": 9,
      "outputs": []
    },
    {
      "cell_type": "markdown",
      "source": [
        "# New Section"
      ],
      "metadata": {
        "id": "3sFvuEq9ClXP"
      }
    },
    {
      "cell_type": "code",
      "source": [
        "# Make the SpectrumDataset\n",
        "geom = RegionGeom.create(region=on_region, axes=[energy_axis])\n",
        "\n",
        "dataset_empty = SpectrumDataset.create(\n",
        "    geom=geom, energy_axis_true=energy_axis_true, #name=\"obs-0\"\n",
        ")\n",
        "maker = SpectrumDatasetMaker(selection=[\"exposure\", \"edisp\", \"background\"])"
      ],
      "metadata": {
        "id": "nheLzMmJIFWl"
      },
      "execution_count": 10,
      "outputs": []
    },
    {
      "cell_type": "code",
      "source": [
        "fpe = FluxPointsEstimator(energy_edges=energy_axis.edges, \n",
        "                          selection_optional='all')"
      ],
      "metadata": {
        "id": "Eg5hT8Q2IO3c"
      },
      "execution_count": 11,
      "outputs": []
    },
    {
      "cell_type": "code",
      "source": [
        "datasets = Datasets()\n",
        "\n",
        "location = observatory_locations[\"cta_south\"]\n",
        "obs = Observation.create(\n",
        "        pointing=pointing,\n",
        "        livetime=livetime,\n",
        "        irfs=irfs['irf'][0],\n",
        "        location=location,\n",
        ")\n",
        "    \n",
        "dataset = maker.run(dataset_empty, obs)\n",
        "\n",
        "# Set the model on the dataset, and fake\n",
        "dataset.models = model\n",
        "dataset.fake(random_state=42)\n",
        "print(dataset)\n",
        "    \n",
        "dataset_on_off = SpectrumDatasetOnOff.from_spectrum_dataset(\n",
        "dataset=dataset, acceptance=1, acceptance_off=5, name=irfs['name'][0]\n",
        ")\n",
        "dataset_on_off.fake(random_state=42, npred_background=dataset.npred_background())\n",
        "print(dataset_on_off)\n",
        "\n",
        "# Handy for loops when simulating multiple datasets, e.g. with different observation times\n",
        "datasets.append(dataset_on_off)"
      ],
      "metadata": {
        "colab": {
          "base_uri": "https://localhost:8080/"
        },
        "id": "Jltsw2jsISR9",
        "outputId": "19b77369-5259-4981-bbd2-b37d4aa17e74"
      },
      "execution_count": 12,
      "outputs": [
        {
          "output_type": "stream",
          "name": "stdout",
          "text": [
            "SpectrumDataset\n",
            "---------------\n",
            "\n",
            "  Name                            : mXhFBjV3 \n",
            "\n",
            "  Total counts                    : 1010 \n",
            "  Total background counts         : 162.27\n",
            "  Total excess counts             : 847.73\n",
            "\n",
            "  Predicted counts                : 1018.75\n",
            "  Predicted background counts     : 162.27\n",
            "  Predicted excess counts         : 856.48\n",
            "\n",
            "  Exposure min                    : 1.77e+07 m2 s\n",
            "  Exposure max                    : 8.09e+09 m2 s\n",
            "\n",
            "  Number of total bins            : 20 \n",
            "  Number of fit bins              : 20 \n",
            "\n",
            "  Fit statistic type              : cash\n",
            "  Fit statistic value (-2 log(L)) : -9505.65\n",
            "\n",
            "  Number of models                : 1 \n",
            "  Number of parameters            : 5\n",
            "  Number of free parameters       : 2\n",
            "\n",
            "  Component 0: SkyModel\n",
            "  \n",
            "    Name                      : CTA Simulation\n",
            "    Datasets names            : None\n",
            "    Spectral model type       : CompoundSpectralModel\n",
            "    Spatial  model type       : \n",
            "    Temporal model type       : \n",
            "    Parameters:\n",
            "      index                         :      2.400   +/-    0.00             \n",
            "      amplitude                     :   1.00e-09   +/- 0.0e+00 1 / (cm2 GeV s)\n",
            "      reference             (frozen):     10.000       GeV         \n",
            "      alpha_norm            (frozen):      1.000                   \n",
            "      redshift              (frozen):      0.400                   \n",
            "  \n",
            "  \n",
            "SpectrumDatasetOnOff\n",
            "--------------------\n",
            "\n",
            "  Name                            : 0.5h \n",
            "\n",
            "  Total counts                    : 999 \n",
            "  Total background counts         : 165.40\n",
            "  Total excess counts             : 833.60\n",
            "\n",
            "  Predicted counts                : 1021.10\n",
            "  Predicted background counts     : 164.62\n",
            "  Predicted excess counts         : 856.48\n",
            "\n",
            "  Exposure min                    : 1.77e+07 m2 s\n",
            "  Exposure max                    : 8.09e+09 m2 s\n",
            "\n",
            "  Number of total bins            : 20 \n",
            "  Number of fit bins              : 20 \n",
            "\n",
            "  Fit statistic type              : wstat\n",
            "  Fit statistic value (-2 log(L)) : 19.07\n",
            "\n",
            "  Number of models                : 1 \n",
            "  Number of parameters            : 5\n",
            "  Number of free parameters       : 2\n",
            "\n",
            "  Component 0: SkyModel\n",
            "  \n",
            "    Name                      : CTA Simulation\n",
            "    Datasets names            : None\n",
            "    Spectral model type       : CompoundSpectralModel\n",
            "    Spatial  model type       : \n",
            "    Temporal model type       : \n",
            "    Parameters:\n",
            "      index                         :      2.400   +/-    0.00             \n",
            "      amplitude                     :   1.00e-09   +/- 0.0e+00 1 / (cm2 GeV s)\n",
            "      reference             (frozen):     10.000       GeV         \n",
            "      alpha_norm            (frozen):      1.000                   \n",
            "      redshift              (frozen):      0.400                   \n",
            "  \n",
            "    Total counts_off                : 827 \n",
            "  Acceptance                      : 20 \n",
            "  Acceptance off                  : 100 \n",
            "\n"
          ]
        }
      ]
    },
    {
      "cell_type": "code",
      "source": [
        "# Append a dataset with 50h observation time\n",
        "# Note the change in IRF\n",
        "obs = Observation.create(\n",
        "        pointing=pointing,\n",
        "        livetime=50*u.h,\n",
        "        irfs=irfs['irf'][2],\n",
        "        location=location,\n",
        ")\n",
        "    \n",
        "dataset = maker.run(dataset_empty, obs)\n",
        "dataset.models = model\n",
        "dataset.fake(random_state=42)\n",
        "    \n",
        "dataset_on_off = SpectrumDatasetOnOff.from_spectrum_dataset(\n",
        "dataset=dataset, acceptance=1, acceptance_off=5, name=irfs['name'][2]\n",
        ")\n",
        "dataset_on_off.fake(random_state=42, npred_background=dataset.npred_background())\n",
        "datasets.append(dataset_on_off)"
      ],
      "metadata": {
        "id": "Q_KXUEh2WOZM"
      },
      "execution_count": 13,
      "outputs": []
    },
    {
      "cell_type": "code",
      "source": [
        "plt.plot(energy_axis.center, datasets[0].counts_off.data[:,:,0]/5, 'o', label='Off')\n",
        "plt.plot(energy_axis.center, datasets[0].counts.data[:,:,0], 'x', label='On', lw=3, zorder=100)\n",
        "plt.plot(energy_axis.center, datasets[0].excess.data[:,:,0], 's', label='Excess')\n",
        "\n",
        "plt.legend(title='Counts')\n",
        "\n",
        "plt.xscale('log')\n",
        "plt.yscale('log')\n",
        "\n",
        "plt.xlabel(f'Gamma Energy / {energy_axis.unit}')\n",
        "\n",
        "plt.savefig(f'gammapy-Counts0.pdf');"
      ],
      "metadata": {
        "colab": {
          "base_uri": "https://localhost:8080/",
          "height": 283
        },
        "id": "UwdeIgWrfJZu",
        "outputId": "6046fa07-5755-48fc-ab98-a56ae096fd66"
      },
      "execution_count": 14,
      "outputs": [
        {
          "output_type": "display_data",
          "data": {
            "text/plain": [
              "<Figure size 432x288 with 1 Axes>"
            ],
            "image/png": "[encoded data removed]"
          },
          "metadata": {
            "needs_background": "light"
          }
        }
      ]
    },
    {
      "cell_type": "code",
      "source": [
        "datasets.info_table()"
      ],
      "metadata": {
        "colab": {
          "base_uri": "https://localhost:8080/",
          "height": 161
        },
        "id": "z2cwaO2xI5s4",
        "outputId": "43dfc941-a1ce-4442-9913-0cd9ffc4b32a"
      },
      "execution_count": 15,
      "outputs": [
        {
          "output_type": "execute_result",
          "data": {
            "text/plain": [
              "<Table length=2>\n",
              "name counts       excess      ...   acceptance_off          alpha       \n",
              "                              ...                                       \n",
              "str4 int64       float64      ...      float64             float64      \n",
              "---- ------ ----------------- ... ------------------ -------------------\n",
              "0.5h    999 833.5999755859375 ... 100.00000762939453 0.19999998807907104\n",
              " 50h  64445           57206.8 ... 100.00000000000001 0.19999999999999998"
            ],
            "text/html": [
              "<div><i>Table length=2</i>\n",
              "<table id=\"table140679668189072\" class=\"table-striped table-bordered table-condensed\">\n",
              "<thead><tr><th>name</th><th>counts</th><th>excess</th><th>sqrt_ts</th><th>background</th><th>npred</th><th>npred_background</th><th>npred_signal</th><th>exposure_min</th><th>exposure_max</th><th>livetime</th><th>ontime</th><th>counts_rate</th><th>background_rate</th><th>excess_rate</th><th>n_bins</th><th>n_fit_bins</th><th>stat_type</th><th>stat_sum</th><th>counts_off</th><th>acceptance</th><th>acceptance_off</th><th>alpha</th></tr></thead>\n",
              "<thead><tr><th></th><th></th><th></th><th></th><th></th><th></th><th></th><th></th><th>m2 s</th><th>m2 s</th><th>s</th><th>s</th><th>1 / s</th><th>1 / s</th><th>1 / s</th><th></th><th></th><th></th><th></th><th></th><th></th><th></th><th></th></tr></thead>\n",
              "<thead><tr><th>str4</th><th>int64</th><th>float64</th><th>float64</th><th>float64</th><th>float64</th><th>float64</th><th>float64</th><th>float64</th><th>float64</th><th>float64</th><th>float64</th><th>float64</th><th>float64</th><th>float64</th><th>int64</th><th>int64</th><th>str5</th><th>float64</th><th>int64</th><th>float64</th><th>float64</th><th>float64</th></tr></thead>\n",
              "<tr><td>0.5h</td><td>999</td><td>833.5999755859375</td><td>36.96413709579639</td><td>165.39999389648438</td><td>304.3333371124334</td><td>304.3333371124334</td><td>nan</td><td>17698366.0</td><td>8090206720.0</td><td>1799.9999999999984</td><td>1799.9999999999984</td><td>0.5550000000000005</td><td>0.09188888549804695</td><td>0.4631110975477435</td><td>20</td><td>20</td><td>wstat</td><td>1488.5802642738531</td><td>827</td><td>20.0</td><td>100.00000762939453</td><td>0.19999998807907104</td></tr>\n",
              "<tr><td>50h</td><td>64445</td><td>57206.8</td><td>335.6570181182216</td><td>7238.2</td><td>64574.67987093666</td><td>7234.754990871679</td><td>57339.92488006498</td><td>373461093.2592277</td><td>599924825271.8473</td><td>180000.0</td><td>180000.0</td><td>0.3580277777777778</td><td>0.04021222222222222</td><td>0.3178155555555556</td><td>20</td><td>20</td><td>wstat</td><td>14.883915075528805</td><td>36191</td><td>20.0</td><td>100.00000000000001</td><td>0.19999999999999998</td></tr>\n",
              "</table></div>"
            ]
          },
          "metadata": {},
          "execution_count": 15
        }
      ]
    },
    {
      "cell_type": "code",
      "source": [
        "flux_points_datasets = Datasets()\n",
        "\n",
        "for d in datasets:\n",
        "    flux_points = fpe.run(datasets=[d])\n",
        "    flux_points_datasets.append(\n",
        "        FluxPointsDataset(data=flux_points, models=model, name=d.name))"
      ],
      "metadata": {
        "id": "l2yIkPoKI_cC"
      },
      "execution_count": 16,
      "outputs": []
    },
    {
      "cell_type": "code",
      "source": [
        "ax = plt.subplot()\n",
        "ax.yaxis.set_units(u.Unit(\"TeV cm-2 s-1\"))\n",
        "\n",
        "kwargs = {\"ax\": ax, \"sed_type\": \"e2dnde\"}\n",
        "\n",
        "for i, d in enumerate(flux_points_datasets):\n",
        "    ax = plt.subplot()\n",
        "    ax.yaxis.set_units(u.Unit(\"TeV cm-2 s-1\"))\n",
        "    kwargs = {\"ax\": ax, \"sed_type\": \"e2dnde\"}\n",
        "        \n",
        "    d.plot_spectrum(kwargs_fp = {'label': d.name, 'color':'darkblue'}, \n",
        "                    kwargs_model = {'label':'Model', 'color':'gray', 'alpha': 0.7})\n",
        "\n",
        "    ax.legend(loc='upper right')\n",
        "    ax.set_ylim(1e-15, 1e-10)\n",
        "    plt.savefig(f'gammapy-SimulatedSpectrum{i}.pdf')\n",
        "    plt.show()"
      ],
      "metadata": {
        "colab": {
          "base_uri": "https://localhost:8080/",
          "height": 561
        },
        "id": "9I4fa-gaJbvL",
        "outputId": "29d6a4e8-43fc-45f3-dcd8-42c469f9d5eb"
      },
      "execution_count": 17,
      "outputs": [
        {
          "output_type": "display_data",
          "data": {
            "text/plain": [
              "<Figure size 432x288 with 1 Axes>"
            ],
            "image/png": "[encoded data removed]"
          },
          "metadata": {
            "needs_background": "light"
          }
        },
        {
          "output_type": "display_data",
          "data": {
            "text/plain": [
              "<Figure size 432x288 with 1 Axes>"
            ],
            "image/png": "[encoded data removed]"
          },
          "metadata": {
            "needs_background": "light"
          }
        }
      ]
    },
    {
      "cell_type": "code",
      "source": [],
      "metadata": {
        "id": "3vkiDdYRJgA8"
      },
      "execution_count": 17,
      "outputs": []
    }
  ]
}